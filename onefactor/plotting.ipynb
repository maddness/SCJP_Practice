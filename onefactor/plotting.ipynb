{
 "cells": [
  {
   "cell_type": "code",
   "execution_count": 1,
   "metadata": {
    "collapsed": false
   },
   "outputs": [],
   "source": [
    "%matplotlib inline\n",
    "from datetime import datetime\n",
    "from datetime import time\n",
    "import pandas as pd\n",
    "import seaborn as sns\n",
    "import matplotlib.pyplot as plt\n",
    "import numpy as np"
   ]
  },
  {
   "cell_type": "code",
   "execution_count": 2,
   "metadata": {
    "collapsed": false
   },
   "outputs": [
    {
     "name": "stdout",
     "output_type": "stream",
     "text": [
      "2016-01-25 00:00:17 Mon\n",
      "2016-01-31 23:59:43 Sun\n"
     ]
    }
   ],
   "source": [
    "df = pd.read_csv('alert button-1.csv')\n",
    "\n",
    "print(datetime.utcfromtimestamp(int(df.timestamp.min())).strftime('%Y-%m-%d %H:%M:%S %a'))\n",
    "print(datetime.utcfromtimestamp(int(df.timestamp.max())).strftime('%Y-%m-%d %H:%M:%S %a'))"
   ]
  },
  {
   "cell_type": "code",
   "execution_count": 3,
   "metadata": {
    "collapsed": false,
    "scrolled": true
   },
   "outputs": [
    {
     "data": {
      "text/html": [
       "<div>\n",
       "<table border=\"1\" class=\"dataframe\">\n",
       "  <thead>\n",
       "    <tr style=\"text-align: right;\">\n",
       "      <th></th>\n",
       "      <th>device_id</th>\n",
       "      <th>timestamp</th>\n",
       "      <th>x</th>\n",
       "      <th>y</th>\n",
       "      <th>hour</th>\n",
       "      <th>segment</th>\n",
       "    </tr>\n",
       "  </thead>\n",
       "  <tbody>\n",
       "    <tr>\n",
       "      <th>0</th>\n",
       "      <td>11382</td>\n",
       "      <td>1453723418</td>\n",
       "      <td>3029</td>\n",
       "      <td>6217</td>\n",
       "      <td>12</td>\n",
       "      <td>day</td>\n",
       "    </tr>\n",
       "    <tr>\n",
       "      <th>1</th>\n",
       "      <td>52106</td>\n",
       "      <td>1453797980</td>\n",
       "      <td>3459</td>\n",
       "      <td>5654</td>\n",
       "      <td>8</td>\n",
       "      <td>day</td>\n",
       "    </tr>\n",
       "    <tr>\n",
       "      <th>2</th>\n",
       "      <td>31296</td>\n",
       "      <td>1453731250</td>\n",
       "      <td>3295</td>\n",
       "      <td>6261</td>\n",
       "      <td>14</td>\n",
       "      <td>day</td>\n",
       "    </tr>\n",
       "    <tr>\n",
       "      <th>3</th>\n",
       "      <td>31296</td>\n",
       "      <td>1453731277</td>\n",
       "      <td>3267</td>\n",
       "      <td>6247</td>\n",
       "      <td>14</td>\n",
       "      <td>day</td>\n",
       "    </tr>\n",
       "    <tr>\n",
       "      <th>4</th>\n",
       "      <td>31296</td>\n",
       "      <td>1453732707</td>\n",
       "      <td>3311</td>\n",
       "      <td>6255</td>\n",
       "      <td>14</td>\n",
       "      <td>day</td>\n",
       "    </tr>\n",
       "  </tbody>\n",
       "</table>\n",
       "</div>"
      ],
      "text/plain": [
       "   device_id   timestamp     x     y  hour segment\n",
       "0      11382  1453723418  3029  6217    12     day\n",
       "1      52106  1453797980  3459  5654     8     day\n",
       "2      31296  1453731250  3295  6261    14     day\n",
       "3      31296  1453731277  3267  6247    14     day\n",
       "4      31296  1453732707  3311  6255    14     day"
      ]
     },
     "execution_count": 3,
     "metadata": {},
     "output_type": "execute_result"
    }
   ],
   "source": [
    "def part_of_day(hour):\n",
    "    if 2 <= hour <= 5: return 'night'\n",
    "    else: return 'day'\n",
    "#     if 7 <= hour <= 22: return 'day'\n",
    "#     if hour == 23: return 'night'\n",
    "\n",
    "    \n",
    "def get_hour(timestamp):    \n",
    "    return datetime.utcfromtimestamp(int(timestamp)).time().hour\n",
    "\n",
    "\n",
    "df['hour'] = df.timestamp.map(get_hour)\n",
    "df['segment'] = df.hour.map(part_of_day)\n",
    "\n",
    "df.head()"
   ]
  },
  {
   "cell_type": "code",
   "execution_count": 10,
   "metadata": {
    "collapsed": false,
    "scrolled": true
   },
   "outputs": [
    {
     "data": {
      "text/plain": [
       "<seaborn.axisgrid.FacetGrid at 0xb051cf8>"
      ]
     },
     "execution_count": 10,
     "metadata": {},
     "output_type": "execute_result"
    },
    {
     "data": {
      "image/png": "[encoded data removed]",
      "text/plain": [
       "<matplotlib.figure.Figure at 0x9479390>"
      ]
     },
     "metadata": {},
     "output_type": "display_data"
    }
   ],
   "source": [
    "sns.set(style='white')\n",
    "df1 = df[(df.y > 0) & (df.x < 60000)]\n",
    "sns.lmplot(x='x', y = 'y', hue='segment', col='segment', col_order= ['night', 'day'], data=df1, fit_reg=False)\n"
   ]
  },
  {
   "cell_type": "code",
   "execution_count": 163,
   "metadata": {
    "collapsed": false,
    "scrolled": false
   },
   "outputs": [],
   "source": [
    "for i in people[:100]:\n",
    "    df1 = df[df.device_id == i]\n",
    "#     sns.lmplot(x='x', y = 'y', hue='segment', col='segment', col_order= ['night', 'day'], data=df1, fit_reg=False)\n",
    "    img = sns.lmplot(x='x', y = 'y', hue='segment', data=df1, fit_reg=False)\n",
    "#     fig = img.fig()\n",
    "#     fig.savefig(i)\n",
    "#     fig.clf()\n",
    "    "
   ]
  },
  {
   "cell_type": "code",
   "execution_count": null,
   "metadata": {
    "collapsed": false
   },
   "outputs": [],
   "source": [
    "for i in people:\n",
    "    plt.plot(df.x[df.device_id == i], df.y[df.device_id == i])\n",
    "    heatmap, xedges, yedges = np.histogram2d(df.x[df.device_id == i], df.y[df.device_id == i], bins=50)\n",
    "    extent = [xedges[0], xedges[-1], yedges[0], yedges[-1]]\n",
    "    plt.clf()\n",
    "    plt.imshow(heatmap, extent=extent)\n",
    "    plt.show()"
   ]
  }
 ],
 "metadata": {
  "kernelspec": {
   "display_name": "Python 3",
   "language": "python",
   "name": "python3"
  },
  "language_info": {
   "codemirror_mode": {
    "name": "ipython",
    "version": 3
   },
   "file_extension": ".py",
   "mimetype": "text/x-python",
   "name": "python",
   "nbconvert_exporter": "python",
   "pygments_lexer": "ipython3",
   "version": "3.5.1"
  }
 },
 "nbformat": 4,
 "nbformat_minor": 0
}
